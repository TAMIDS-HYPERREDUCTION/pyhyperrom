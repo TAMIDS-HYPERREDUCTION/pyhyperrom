{
 "cells": [
  {
   "cell_type": "code",
   "execution_count": null,
   "metadata": {},
   "outputs": [],
   "source": [
    "%matplotlib inline"
   ]
  },
  {
   "cell_type": "code",
   "execution_count": null,
   "metadata": {},
   "outputs": [],
   "source": [
    "import os\n",
    "current_dir ='../../'\n",
    "os.chdir(current_dir)"
   ]
  },
  {
   "cell_type": "code",
   "execution_count": null,
   "metadata": {},
   "outputs": [],
   "source": [
    "os.getcwd()"
   ]
  },
  {
   "cell_type": "code",
   "execution_count": null,
   "metadata": {},
   "outputs": [],
   "source": [
    "# Restart the kernel\n",
    "import dill as pickle\n",
    "from src.codes.basic import *\n",
    "import numpy as np\n",
    "import matplotlib"
   ]
  },
  {
   "cell_type": "code",
   "execution_count": null,
   "metadata": {},
   "outputs": [],
   "source": [
    "filename_dataC = 'examples/Additive_Manufacturing/data/DataClass_AM_M_2.dill'\n",
    "\n",
    "with open(filename_dataC, 'rb') as f:\n",
    "    Data_cls = pickle.load(f)"
   ]
  },
  {
   "cell_type": "code",
   "execution_count": null,
   "metadata": {},
   "outputs": [],
   "source": [
    "NLS = np.asarray(Data_cls.NL_solutions[0])\n",
    "t = Data_cls.t\n",
    "Omega = Data_cls.FOS.data.xi"
   ]
  },
  {
   "cell_type": "code",
   "execution_count": null,
   "metadata": {},
   "outputs": [],
   "source": [
    "# Creating an instance of AnimatedScatterPlot\n",
    "plt.rcParams['figure.dpi'] = 200\n",
    "animated_contour_plot = AnimatedContourPlot(Omega[0], Omega[1], NLS)"
   ]
  },
  {
   "cell_type": "code",
   "execution_count": null,
   "metadata": {},
   "outputs": [],
   "source": [
    "# animated_contour_plot.save_animation('trial_video.mkv',interval=2)"
   ]
  },
  {
   "cell_type": "code",
   "execution_count": null,
   "metadata": {},
   "outputs": [],
   "source": [
    "from src.codes.utils.plot_files.plot_utils import TwoDPlot as plot\n",
    "from IPython.display import clear_output"
   ]
  },
  {
   "cell_type": "code",
   "execution_count": null,
   "metadata": {},
   "outputs": [],
   "source": [
    "for a in range(0,1000,10):\n",
    "    \n",
    "    \"\"\"Generates a contour plot based on the provided x, y, and Z_flat data.\"\"\"\n",
    "    plt.clf()\n",
    "\n",
    "    X, Y = np.meshgrid(Omega[0], Omega[1])\n",
    "    Z = NLS[:,a].reshape(len(Omega[1]), len(Omega[0]))\n",
    "    fig, ax = plt.subplots()\n",
    "    cp = ax.contourf(X, Y, Z, cmap=cm.coolwarm,levels=np.linspace(np.min(NLS), np.max(NLS), num=512))\n",
    "    ax.set_xlabel('$x$')\n",
    "    ax.set_ylabel('$y$')\n",
    "    ax.set_aspect('equal', adjustable='box')\n",
    "    plt.colorbar(cp)\n",
    "    plt.show()\n",
    "    time.sleep(0.1)\n",
    "    clear_output(wait=True)"
   ]
  },
  {
   "cell_type": "code",
   "execution_count": null,
   "metadata": {},
   "outputs": [],
   "source": [
    "# Q = Data_cls.rhs\n",
    "# Q[0].shape\n",
    "# np.min(Q[0])\n",
    "# NLS[:,70]"
   ]
  }
 ],
 "metadata": {
  "kernelspec": {
   "display_name": "base",
   "language": "python",
   "name": "python3"
  },
  "language_info": {
   "codemirror_mode": {
    "name": "ipython",
    "version": 3
   },
   "file_extension": ".py",
   "mimetype": "text/x-python",
   "name": "python",
   "nbconvert_exporter": "python",
   "pygments_lexer": "ipython3",
   "version": "3.11.4"
  }
 },
 "nbformat": 4,
 "nbformat_minor": 2
}
