{
 "cells": [
  {
   "cell_type": "markdown",
   "metadata": {},
   "source": [
    "### Load Modules"
   ]
  },
  {
   "cell_type": "code",
   "execution_count": 1,
   "metadata": {},
   "outputs": [],
   "source": [
    "# Restart the kernel\n",
    "import os\n",
    "import dill as pickle\n",
    "current_dir ='../../'\n",
    "os.chdir(current_dir)\n",
    "\n",
    "from src.codes.basic import *\n",
    "from src.codes.utils.plot_files.plot_utils import TwoDPlot as plot\n",
    "from src.codes.utils.rom_utils import *\n",
    "import time as time\n",
    "\n",
    "import src.codes.prob_classes.base_class_heat_conduction_AM as bc\n",
    "# from src.codes.prob_classes.base_class_heat_conduction_AM import ROM_simulation \n",
    "# import src.codes.reductor.rom_class_AM as rom_class\n",
    "from src.codes.algorithms.ecsw import ecsw_red\n",
    "\n",
    "from importlib import reload"
   ]
  },
  {
   "cell_type": "code",
   "execution_count": 2,
   "metadata": {},
   "outputs": [
    {
     "data": {
      "text/plain": [
       "<module 'src.codes.prob_classes.base_class_heat_conduction_AM' from 'c:\\\\Users\\\\suparnob\\\\OneDrive - Texas A&M University\\\\Academic\\\\TAMU_MATERIALS\\\\POSTDOC\\\\HYPERREDUCTION\\\\SUPARNO\\\\HYPERREDUCTION__TAMIDS\\\\pyHyperRom\\\\src\\\\codes\\\\prob_classes\\\\base_class_heat_conduction_AM.py'>"
      ]
     },
     "execution_count": 2,
     "metadata": {},
     "output_type": "execute_result"
    }
   ],
   "source": [
    "reload(bc)\n",
    "# reload(rom_class)"
   ]
  },
  {
   "cell_type": "markdown",
   "metadata": {},
   "source": [
    "### Load data"
   ]
  },
  {
   "cell_type": "code",
   "execution_count": 3,
   "metadata": {},
   "outputs": [],
   "source": [
    "filename_dataC = 'examples/Additive_Manufacturing/data/DataClass_AM_M_2.dill'\n",
    "with open(filename_dataC, 'rb') as f:\n",
    "    Data_cls = pickle.load(f)"
   ]
  },
  {
   "cell_type": "code",
   "execution_count": 4,
   "metadata": {},
   "outputs": [
    {
     "name": "stdout",
     "output_type": "stream",
     "text": [
      "10001\n"
     ]
    }
   ],
   "source": [
    "# load required variables from data\n",
    "FOS = Data_cls.FOS\n",
    "d = FOS.data\n",
    "mask = d.mask\n",
    "param_list = np.asarray(Data_cls.param_list)\n",
    "NLS = np.asarray(Data_cls.NL_solutions)\n",
    "K_mus = Data_cls.K_mus\n",
    "t = Data_cls.t\n",
    "q_mus = Data_cls.q_mus\n",
    "\n",
    "# train_mask, test_mask = Data_cls.train_mask, Data_cls.test_mask \n",
    "\n",
    "_,N_snap = np.shape(NLS[0])\n",
    "print(N_snap)"
   ]
  },
  {
   "cell_type": "markdown",
   "metadata": {},
   "source": [
    "## ECSW Hyper-reduction"
   ]
  },
  {
   "cell_type": "markdown",
   "metadata": {},
   "source": [
    "### Data-processing"
   ]
  },
  {
   "cell_type": "code",
   "execution_count": 5,
   "metadata": {},
   "outputs": [
    {
     "name": "stdout",
     "output_type": "stream",
     "text": [
      "Number of modes selected: 20\n"
     ]
    },
    {
     "data": {
      "image/png": "[encoded data removed]",
      "text/plain": [
       "<Figure size 500x400 with 1 Axes>"
      ]
     },
     "metadata": {},
     "output_type": "display_data"
    }
   ],
   "source": [
    "NLS_mask = NLS[0][mask]\n",
    "plt.rcParams['figure.dpi'] = 100\n",
    "n_sel, U = svd_mode_selector(NLS_mask.T, tolerance=1e-5,modes=True)"
   ]
  },
  {
   "cell_type": "code",
   "execution_count": 6,
   "metadata": {},
   "outputs": [],
   "source": [
    "n_sel += 0\n",
    "V_sel = U[:, :n_sel]"
   ]
  },
  {
   "cell_type": "markdown",
   "metadata": {},
   "source": [
    "### Train-Test split"
   ]
  },
  {
   "cell_type": "code",
   "execution_count": 7,
   "metadata": {},
   "outputs": [],
   "source": [
    "Snap_sel=200\n",
    "train_mask, _ = train_test_split_sobol(N_snap, N_sel=Snap_sel)\n",
    "NLS_train = NLS_mask[:,train_mask]"
   ]
  },
  {
   "cell_type": "markdown",
   "metadata": {},
   "source": [
    "### Mean subtraction"
   ]
  },
  {
   "cell_type": "code",
   "execution_count": 8,
   "metadata": {},
   "outputs": [],
   "source": [
    "NLS_train_mean = NLS_mask[:,0] #np.mean(NLS_mask,axis=1)\n",
    "NLS_train_mean = NLS_train_mean.reshape(-1,1)\n",
    "NLS_train_ms = NLS_train - NLS_train_mean"
   ]
  },
  {
   "cell_type": "markdown",
   "metadata": {},
   "source": [
    "### Plot snapshots"
   ]
  },
  {
   "cell_type": "code",
   "execution_count": 9,
   "metadata": {},
   "outputs": [],
   "source": [
    "# NLS_train_plot = NLS[0][:,train_mask]\n",
    "\n",
    "# for i in range(2):\n",
    "#     Plot = plot(d.xi[0], d.xi[1], NLS_train_plot[:,i])\n",
    "#     Plot.contour_()\n",
    "# # plt.show()"
   ]
  },
  {
   "cell_type": "markdown",
   "metadata": {},
   "source": [
    "\n",
    "#### Step 1: Perform SVD on the snapshots (calculate $\\mathbb{V}(=\\mathbb{W}$)):"
   ]
  },
  {
   "cell_type": "code",
   "execution_count": 10,
   "metadata": {},
   "outputs": [],
   "source": [
    "# V_sel.shape"
   ]
  },
  {
   "cell_type": "markdown",
   "metadata": {},
   "source": [
    "### Step 2: Perform NNLS for ECSW"
   ]
  },
  {
   "cell_type": "code",
   "execution_count": 11,
   "metadata": {},
   "outputs": [],
   "source": [
    "_,N_snap_train = np.shape(NLS_train)\n",
    "tol = None"
   ]
  },
  {
   "cell_type": "code",
   "execution_count": 12,
   "metadata": {},
   "outputs": [],
   "source": [
    "tic_h_setup_b = time.time()\n",
    "\n",
    "data = {'K_mus':K_mus,'q_mus':q_mus}\n",
    "xi, residual = ecsw_red(d, V_sel, d.Le, data, n_sel, N_snap_train, NLS_train_ms.T, NLS_train_mean.flatten(), Data_cls.FOS.residual_func, tol=tol)\n",
    "\n",
    "# xi, residual = ecsw_red(d, V_sel, d.Le, K_mus, q_mus, n_sel, N_snap_train, d.mask, NLS_train.T, NLS_train_mean, tol=tol)\n",
    "\n",
    "toc_h_setup_b = time.time()"
   ]
  },
  {
   "cell_type": "code",
   "execution_count": null,
   "metadata": {},
   "outputs": [],
   "source": [
    "plt.rcParams['figure.dpi'] = 200\n",
    "plot(0,0,0).element_((d.ncells[0],d.ncells[1]), xi, d.ncells)\n",
    "print(f\"Fraction of total elements active in the ROM: {len(xi[xi>0])*100/len(xi)}%\")\n",
    "print(f\"{residual=}\")"
   ]
  },
  {
   "cell_type": "code",
   "execution_count": null,
   "metadata": {},
   "outputs": [],
   "source": [
    "# Data_cls.FOS.data.n_verts"
   ]
  },
  {
   "cell_type": "markdown",
   "metadata": {},
   "source": [
    "\n",
    "### ROM Simulation"
   ]
  },
  {
   "cell_type": "code",
   "execution_count": null,
   "metadata": {},
   "outputs": [],
   "source": [
    "Data_cls.mean = NLS_train_mean"
   ]
  },
  {
   "cell_type": "code",
   "execution_count": null,
   "metadata": {},
   "outputs": [],
   "source": [
    "ROM_h = bc.ROM_simulation(Data_cls, V_sel, xi, sol_init_guess=298.0) #, N_rom_snap=1)\n",
    "ROM_h.run_simulation_ms()"
   ]
  },
  {
   "cell_type": "code",
   "execution_count": null,
   "metadata": {},
   "outputs": [],
   "source": [
    "ROM = bc.ROM_simulation(Data_cls, V_sel, sol_init_guess=298.0) #, xi=xi)#, N_rom_snap=1)\n",
    "ROM.run_simulation_ms()"
   ]
  },
  {
   "cell_type": "markdown",
   "metadata": {},
   "source": [
    "### Performance Statistics"
   ]
  },
  {
   "cell_type": "code",
   "execution_count": null,
   "metadata": {},
   "outputs": [],
   "source": [
    "NLS_rom_h = np.asarray(ROM_h.NL_solutions_rom[0])\n",
    "ROM_speed_up_h = ROM_h.speed_up\n",
    "print(ROM_speed_up_h)"
   ]
  },
  {
   "cell_type": "code",
   "execution_count": null,
   "metadata": {},
   "outputs": [],
   "source": [
    "NLS_rom = np.asarray(ROM.NL_solutions_rom[0])\n",
    "ROM_speed_up = ROM.speed_up\n",
    "print(ROM_speed_up)"
   ]
  },
  {
   "cell_type": "code",
   "execution_count": null,
   "metadata": {},
   "outputs": [],
   "source": [
    "err= np.linalg.norm(NLS_rom-NLS[0])/np.linalg.norm(NLS[0]-298)\n",
    "print(err)"
   ]
  },
  {
   "cell_type": "code",
   "execution_count": null,
   "metadata": {},
   "outputs": [],
   "source": [
    "err= np.linalg.norm(NLS_rom_h-NLS[0])/np.linalg.norm(NLS[0]-298)\n",
    "print(f\"--------\\n{err=}\\n---------\")"
   ]
  },
  {
   "cell_type": "code",
   "execution_count": null,
   "metadata": {},
   "outputs": [],
   "source": [
    "a=100\n",
    "plt.rcParams['figure.dpi'] = 100\n",
    "Plot = plot(d.xi[0], d.xi[1], NLS_rom_h[:,a])\n",
    "Plot.contour_()"
   ]
  },
  {
   "cell_type": "code",
   "execution_count": null,
   "metadata": {},
   "outputs": [],
   "source": [
    "Plot = plot(d.xi[0], d.xi[1], NLS_rom[:,a])\n",
    "Plot.contour_()"
   ]
  },
  {
   "cell_type": "code",
   "execution_count": null,
   "metadata": {},
   "outputs": [],
   "source": [
    "Plot = plot(d.xi[0], d.xi[1], NLS[0][:,a])\n",
    "Plot.contour_()"
   ]
  },
  {
   "cell_type": "code",
   "execution_count": null,
   "metadata": {},
   "outputs": [],
   "source": [
    "# ROM_SOL = ROM.NL_solutions_rom[0]\n",
    "# fig, ax = plt.subplots(figsize=(5,3.5))\n",
    "\n",
    "# for i in range(Snap_sel*10):\n",
    "#     Plot = plot(d.xi[0], ROM_SOL[0][::2,i], ax=ax)\n",
    "#     Plot.line_()\n",
    "\n",
    "# plt.show()"
   ]
  }
 ],
 "metadata": {
  "kernelspec": {
   "display_name": "Python 3 (ipykernel)",
   "language": "python",
   "name": "python3"
  },
  "language_info": {
   "codemirror_mode": {
    "name": "ipython",
    "version": 3
   },
   "file_extension": ".py",
   "mimetype": "text/x-python",
   "name": "python",
   "nbconvert_exporter": "python",
   "pygments_lexer": "ipython3",
   "version": "3.11.4"
  }
 },
 "nbformat": 4,
 "nbformat_minor": 4
}
